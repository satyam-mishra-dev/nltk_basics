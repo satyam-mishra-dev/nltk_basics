{
 "cells": [
  {
   "cell_type": "code",
   "execution_count": 1,
   "id": "afb0f40d-74b4-420c-8dde-b1e627551c3b",
   "metadata": {},
   "outputs": [],
   "source": [
    "# !pip install nltk"
   ]
  },
  {
   "cell_type": "code",
   "execution_count": 2,
   "id": "2c1079ae-e07e-4be3-bb00-c8694bf2aae7",
   "metadata": {},
   "outputs": [],
   "source": [
    "corpus=\"\"\"\n",
    "hello guyz this is a sample sentence.\n",
    "this is the second line! in the corpus.\n",
    "this is Rishabh's tuts\n",
    "\"\"\""
   ]
  },
  {
   "cell_type": "code",
   "execution_count": 3,
   "id": "1fe6632c-ab37-44e7-a22b-71091e672bfe",
   "metadata": {},
   "outputs": [
    {
     "name": "stdout",
     "output_type": "stream",
     "text": [
      "\n",
      "hello guyz this is a sample sentence.\n",
      "this is the second line! in the corpus.\n",
      "this is Rishabh's tuts\n",
      "\n"
     ]
    }
   ],
   "source": [
    "print(corpus)"
   ]
  },
  {
   "cell_type": "code",
   "execution_count": 4,
   "id": "c515f835-672a-496f-96a1-c8d6ebe638c1",
   "metadata": {},
   "outputs": [
    {
     "data": {
      "text/plain": [
       "['\\nhello guyz this is a sample sentence.',\n",
       " 'this is the second line!',\n",
       " 'in the corpus.',\n",
       " \"this is Rishabh's tuts\"]"
      ]
     },
     "execution_count": 4,
     "metadata": {},
     "output_type": "execute_result"
    }
   ],
   "source": [
    "from nltk.tokenize import sent_tokenize\n",
    "documents=sent_tokenize(corpus)\n",
    "documents"
   ]
  },
  {
   "cell_type": "code",
   "execution_count": 5,
   "id": "e336f533-b59a-4350-8150-aa8b26320464",
   "metadata": {},
   "outputs": [
    {
     "data": {
      "text/plain": [
       "['hello',\n",
       " 'guyz',\n",
       " 'this',\n",
       " 'is',\n",
       " 'a',\n",
       " 'sample',\n",
       " 'sentence',\n",
       " '.',\n",
       " 'this',\n",
       " 'is',\n",
       " 'the',\n",
       " 'second',\n",
       " 'line',\n",
       " '!',\n",
       " 'in',\n",
       " 'the',\n",
       " 'corpus',\n",
       " '.',\n",
       " 'this',\n",
       " 'is',\n",
       " 'rishabh',\n",
       " \"'s\",\n",
       " 'tuts']"
      ]
     },
     "execution_count": 5,
     "metadata": {},
     "output_type": "execute_result"
    }
   ],
   "source": [
    "from nltk.tokenize import word_tokenize\n",
    "# text = \"Natural Language Processing (NLP) is exciting, isn't it?\"\n",
    "tokens = word_tokenize(corpus.lower())\n",
    "tokens"
   ]
  },
  {
   "cell_type": "code",
   "execution_count": 6,
   "id": "63febef4-b779-4628-b556-78a9fefc35e9",
   "metadata": {},
   "outputs": [
    {
     "data": {
      "text/plain": [
       "['hello',\n",
       " 'guyz',\n",
       " 'this',\n",
       " 'is',\n",
       " 'a',\n",
       " 'sample',\n",
       " 'sentence',\n",
       " '.',\n",
       " 'this',\n",
       " 'is',\n",
       " 'the',\n",
       " 'second',\n",
       " 'line',\n",
       " '!',\n",
       " 'in',\n",
       " 'the',\n",
       " 'corpus',\n",
       " '.',\n",
       " 'this',\n",
       " 'is',\n",
       " 'Rishabh',\n",
       " \"'\",\n",
       " 's',\n",
       " 'tuts']"
      ]
     },
     "execution_count": 6,
     "metadata": {},
     "output_type": "execute_result"
    }
   ],
   "source": [
    "# now appose trophy s will be tokenized too\n",
    "from nltk.tokenize import wordpunct_tokenize\n",
    "docs_with_appos=wordpunct_tokenize(corpus)\n",
    "docs_with_appos\n"
   ]
  },
  {
   "cell_type": "code",
   "execution_count": 7,
   "id": "031007a5-846a-412e-951d-5e86ec7262b0",
   "metadata": {},
   "outputs": [],
   "source": [
    "from nltk.tokenize import TreebankWordTokenizer"
   ]
  },
  {
   "cell_type": "code",
   "execution_count": 8,
   "id": "4af5680c-9e21-4402-9886-afb5d9ffce7e",
   "metadata": {},
   "outputs": [
    {
     "data": {
      "text/plain": [
       "['hello',\n",
       " 'guyz',\n",
       " 'this',\n",
       " 'is',\n",
       " 'a',\n",
       " 'sample',\n",
       " 'sentence.',\n",
       " 'this',\n",
       " 'is',\n",
       " 'the',\n",
       " 'second',\n",
       " 'line',\n",
       " '!',\n",
       " 'in',\n",
       " 'the',\n",
       " 'corpus.',\n",
       " 'this',\n",
       " 'is',\n",
       " 'Rishabh',\n",
       " \"'s\",\n",
       " 'tuts']"
      ]
     },
     "execution_count": 8,
     "metadata": {},
     "output_type": "execute_result"
    }
   ],
   "source": [
    "#very minute difference only on last full stop , only used in specific cases and not always\n",
    "tokenizer=TreebankWordTokenizer()\n",
    "tokenizer.tokenize(corpus)"
   ]
  }
 ],
 "metadata": {
  "kernelspec": {
   "display_name": "Python 3 (ipykernel)",
   "language": "python",
   "name": "python3"
  },
  "language_info": {
   "codemirror_mode": {
    "name": "ipython",
    "version": 3
   },
   "file_extension": ".py",
   "mimetype": "text/x-python",
   "name": "python",
   "nbconvert_exporter": "python",
   "pygments_lexer": "ipython3",
   "version": "3.12.1"
  }
 },
 "nbformat": 4,
 "nbformat_minor": 5
}
